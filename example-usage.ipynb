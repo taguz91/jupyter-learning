{
 "cells": [
  {
   "cell_type": "code",
   "execution_count": 1,
   "id": "385f1419-96f1-42ca-a68e-ba65cedc7186",
   "metadata": {},
   "outputs": [
    {
     "name": "stdout",
     "output_type": "stream",
     "text": [
      "Hello world\n"
     ]
    }
   ],
   "source": [
    "# create the python code here\n",
    "\n",
    "print(\"Hello world\")"
   ]
  },
  {
   "cell_type": "markdown",
   "id": "20b3b0b0-407d-4a49-9c48-0e4dfc238615",
   "metadata": {},
   "source": [
    "## Example markdown"
   ]
  },
  {
   "cell_type": "markdown",
   "id": "c5c917c3-640d-4fe2-8396-b4c357683714",
   "metadata": {},
   "source": [
    "- list\n",
    "- list\n",
    "\n",
    "**bold** normal *cursed*"
   ]
  },
  {
   "cell_type": "code",
   "execution_count": null,
   "id": "c6c977e0-c296-4a10-b011-7b9819b86661",
   "metadata": {},
   "outputs": [],
   "source": []
  }
 ],
 "metadata": {
  "kernelspec": {
   "display_name": "Python 3 (ipykernel)",
   "language": "python",
   "name": "python3"
  },
  "language_info": {
   "codemirror_mode": {
    "name": "ipython",
    "version": 3
   },
   "file_extension": ".py",
   "mimetype": "text/x-python",
   "name": "python",
   "nbconvert_exporter": "python",
   "pygments_lexer": "ipython3",
   "version": "3.11.7"
  }
 },
 "nbformat": 4,
 "nbformat_minor": 5
}
